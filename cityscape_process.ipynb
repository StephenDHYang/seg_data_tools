{
 "cells": [
  {
   "cell_type": "code",
   "execution_count": null,
   "metadata": {},
   "outputs": [],
   "source": [
    "import os\n",
    "import cv2\n",
    "from PIL import Image\n",
    "import matplotlib.pyplot as plt\n",
    "import numpy as np\n",
    "import shutil"
   ]
  },
  {
   "cell_type": "markdown",
   "metadata": {},
   "source": [
    "### Before using this script, you should download offical cityscapesScripts from https://github.com/mcordts/cityscapesScripts. Following the settings in Polygon-RNN series and IOG, we select 8 classes by the offical script: *person, rider, car, truck, bus, train, motorcycle and bicycle*."
   ]
  },
  {
   "cell_type": "markdown",
   "metadata": {},
   "source": [
    "## Set input & output path"
   ]
  },
  {
   "cell_type": "code",
   "execution_count": null,
   "metadata": {},
   "outputs": [],
   "source": [
    "ori_root_dir = '/home/SENSETIME/yangdinghao/Documents/data/cityscape/'\n",
    "out_root_dir = '/home/SENSETIME/yangdinghao/Documents/data/cityscape_processed'"
   ]
  },
  {
   "cell_type": "code",
   "execution_count": null,
   "metadata": {},
   "outputs": [],
   "source": [
    "ori_train_img_dir = os.path.join(ori_root_dir, 'leftImg8bit/train')\n",
    "ori_train_label_dir = os.path.join(ori_root_dir, 'gtFine/train')\n",
    "ori_val_img_dir = os.path.join(ori_root_dir, 'leftImg8bit/val')\n",
    "ori_val_label_dir = os.path.join(ori_root_dir, 'gtFine/val')\n",
    "ori_test_img_dir = os.path.join(ori_root_dir, 'leftImg8bit/test')\n",
    "ori_test_label_dir = os.path.join(ori_root_dir, 'gtFine/test')"
   ]
  },
  {
   "cell_type": "code",
   "execution_count": null,
   "metadata": {},
   "outputs": [],
   "source": [
    "out_train_img_dir = os.path.join(out_root_dir, 'train/images')\n",
    "out_train_obj_mask_dir = os.path.join(out_root_dir, 'train/obj_masks')\n",
    "out_train_cat_mask_dir = os.path.join(out_root_dir, 'train/cat_masks')\n",
    "out_val_img_dir = os.path.join(out_root_dir, 'val/images')\n",
    "out_val_obj_mask_dir = os.path.join(out_root_dir, 'val/obj_masks')\n",
    "out_val_cat_mask_dir = os.path.join(out_root_dir, 'val/cat_masks')\n",
    "out_test_img_dir = os.path.join(out_root_dir, 'test/images')\n",
    "out_test_obj_mask_dir = os.path.join(out_root_dir, 'test/obj_masks')\n",
    "out_test_cat_mask_dir = os.path.join(out_root_dir, 'test/cat_masks')"
   ]
  },
  {
   "cell_type": "code",
   "execution_count": null,
   "metadata": {},
   "outputs": [],
   "source": [
    "if not os.path.isdir(out_train_img_dir):\n",
    "    os.makedirs(out_train_img_dir)\n",
    "if not os.path.isdir(out_train_obj_mask_dir):\n",
    "    os.makedirs(out_train_obj_mask_dir)\n",
    "if not os.path.isdir(out_train_cat_mask_dir):\n",
    "    os.makedirs(out_train_cat_mask_dir)\n",
    "if not os.path.isdir(out_val_img_dir):\n",
    "    os.makedirs(out_val_img_dir)\n",
    "if not os.path.isdir(out_val_obj_mask_dir):\n",
    "    os.makedirs(out_val_obj_mask_dir)\n",
    "if not os.path.isdir(out_val_cat_mask_dir):\n",
    "    os.makedirs(out_val_cat_mask_dir)\n",
    "if not os.path.isdir(out_test_img_dir):\n",
    "    os.makedirs(out_test_img_dir)\n",
    "if not os.path.isdir(out_test_obj_mask_dir):\n",
    "    os.makedirs(out_test_obj_mask_dir)\n",
    "if not os.path.isdir(out_test_cat_mask_dir):\n",
    "    os.makedirs(out_test_cat_mask_dir)"
   ]
  },
  {
   "cell_type": "markdown",
   "metadata": {},
   "source": [
    "## Sample test"
   ]
  },
  {
   "cell_type": "code",
   "execution_count": null,
   "metadata": {
    "scrolled": true
   },
   "outputs": [],
   "source": [
    "for image_file in os.listdir(os.path.join(ori_val_img_dir, 'lindau')):\n",
    "    image_name = '_'.join(image_file.split('_')[:-1])\n",
    "    select_cat_file = '{}_gtFine_labelTrainIds.png'.format(image_name)\n",
    "    select_instance_file = '{}_gtFine_instanceTrainIds.png'.format(image_name)\n",
    "    \n",
    "    cat_img = np.array(Image.open(os.path.join(ori_val_label_dir, 'lindau',select_cat_file)))\n",
    "    cat_ids = np.unique(cat_img)\n",
    "    obj_img = np.array(Image.open(os.path.join(ori_val_label_dir, 'lindau',select_instance_file)))\n",
    "    obj_ids = np.unique(obj_img)\n",
    "    print(cat_ids)"
   ]
  },
  {
   "cell_type": "code",
   "execution_count": null,
   "metadata": {
    "scrolled": true
   },
   "outputs": [],
   "source": [
    "cat_dict = {}\n",
    "cat_dict[1] = 0\n",
    "cat_dict[3] = 0\n",
    "cat_dict[8] = 0\n",
    "for image_file in list_dir(ori_val_img_dir):\n",
    "    image_name = '_'.join(image_file.split('_')[:-1])\n",
    "    all_cat_file = '{}_gtFine_labelIds.png'.format(image_name)\n",
    "    all_instance_file = '{}_gtFine_instanceIds.png'.format(image_name)\n",
    "    select_cat_file = '{}_gtFine_labelTrainIds.png'.format(image_name)\n",
    "    select_instance_file = '{}_gtFine_instanceTrainIds.png'.format(image_name)\n",
    "\n",
    "    obj_img = np.array(Image.open(os.path.join(ori_val_label_dir, select_instance_file)))\n",
    "    obj_ids = np.unique(obj_img)\n",
    "    print(obj_ids)\n",
    "    for obj_id in obj_ids:\n",
    "        if obj_id == 1:\n",
    "            cat_dict[1] += 1\n",
    "        elif obj_id == 3:\n",
    "            cat_dict[3] += 1\n",
    "        elif obj_id == 8:\n",
    "            cat_dict[8] +=1 "
   ]
  },
  {
   "cell_type": "markdown",
   "metadata": {},
   "source": [
    "## Copy file to output path"
   ]
  },
  {
   "cell_type": "code",
   "execution_count": null,
   "metadata": {},
   "outputs": [],
   "source": [
    "def list_dir(dir_name):\n",
    "    filename_list = list()\n",
    "    for item in os.listdir(dir_name):\n",
    "        if os.path.isdir(os.path.join(dir_name, item)):\n",
    "            for filename in os.listdir(os.path.join(dir_name, item)):\n",
    "                filename_list.append('{}/{}'.format(item, filename))\n",
    "        else:\n",
    "            filename_list.append(item)\n",
    "\n",
    "    return filename_list"
   ]
  },
  {
   "cell_type": "code",
   "execution_count": null,
   "metadata": {},
   "outputs": [],
   "source": [
    "train_list = list()\n",
    "val_list = list()\n",
    "test_list = list()"
   ]
  },
  {
   "cell_type": "code",
   "execution_count": null,
   "metadata": {
    "scrolled": true
   },
   "outputs": [],
   "source": [
    "for image_file in list_dir(ori_train_img_dir):\n",
    "    image_name = '_'.join(image_file.split('_')[:-1])\n",
    "    all_cat_file = '{}_gtFine_labelIds.png'.format(image_name)\n",
    "    all_instance_file = '{}_gtFine_instanceIds.png'.format(image_name)\n",
    "    select_cat_file = '{}_gtFine_labelTrainIds.png'.format(image_name)\n",
    "    select_instance_file = '{}_gtFine_instanceTrainIds.png'.format(image_name)\n",
    "    \n",
    "    print(image_name)\n",
    "\n",
    "    short_name, extension = os.path.splitext(image_file.split('/')[-1])\n",
    "    short_id = '_'.join(short_name.split('_')[:-1])\n",
    "    train_list.append(short_id)\n",
    "    shutil.copy(os.path.join(ori_train_img_dir, image_file),\n",
    "                os.path.join(out_train_img_dir, '{}{}'.format(short_name, extension)))\n",
    "    shutil.copy(os.path.join(ori_train_label_dir, all_cat_file),\n",
    "                os.path.join(out_train_cat_mask_dir, '{}{}.png'.format(short_id, '_gtFine_labelIds')))\n",
    "    shutil.copy(os.path.join(ori_train_label_dir, all_instance_file),\n",
    "                os.path.join(out_train_obj_mask_dir, '{}{}.png'.format(short_id, '_gtFine_instanceIds')))\n",
    "    shutil.copy(os.path.join(ori_train_label_dir, select_cat_file),\n",
    "                os.path.join(out_train_cat_mask_dir, '{}{}.png'.format(short_id, '_gtFine_labelTrainIds')))\n",
    "    shutil.copy(os.path.join(ori_train_label_dir, select_instance_file),\n",
    "                os.path.join(out_train_obj_mask_dir, '{}{}.png'.format(short_id, '_gtFine_instanceTrainIds')))"
   ]
  },
  {
   "cell_type": "code",
   "execution_count": null,
   "metadata": {},
   "outputs": [],
   "source": [
    "for image_file in list_dir(ori_val_img_dir):\n",
    "    image_name = '_'.join(image_file.split('_')[:-1])\n",
    "    all_cat_file = '{}_gtFine_labelIds.png'.format(image_name)\n",
    "    all_instance_file = '{}_gtFine_instanceIds.png'.format(image_name)\n",
    "    select_cat_file = '{}_gtFine_labelTrainIds.png'.format(image_name)\n",
    "    select_instance_file = '{}_gtFine_instanceTrainIds.png'.format(image_name)\n",
    "\n",
    "    short_name, extension = os.path.splitext(image_file.split('/')[-1])\n",
    "    short_id = '_'.join(short_name.split('_')[:-1])\n",
    "    val_list.append(short_id)\n",
    "    shutil.copy(os.path.join(ori_val_img_dir, image_file),\n",
    "                os.path.join(out_val_img_dir, '{}{}'.format(short_name, extension)))\n",
    "    shutil.copy(os.path.join(ori_val_label_dir, all_cat_file),\n",
    "                os.path.join(out_val_cat_mask_dir, '{}{}.png'.format(short_id, '_gtFine_labelIds')))\n",
    "    shutil.copy(os.path.join(ori_val_label_dir, all_instance_file),\n",
    "                os.path.join(out_val_obj_mask_dir, '{}{}.png'.format(short_id, '_gtFine_instanceIds')))\n",
    "    shutil.copy(os.path.join(ori_val_label_dir, select_cat_file),\n",
    "                os.path.join(out_val_cat_mask_dir, '{}{}.png'.format(short_id, '_gtFine_labelTrainIds')))\n",
    "    shutil.copy(os.path.join(ori_val_label_dir, select_instance_file),\n",
    "                os.path.join(out_val_obj_mask_dir, '{}{}.png'.format(short_id, '_gtFine_instanceTrainIds')))"
   ]
  },
  {
   "cell_type": "code",
   "execution_count": null,
   "metadata": {},
   "outputs": [],
   "source": [
    "for image_file in list_dir(ori_test_img_dir):\n",
    "    image_name = '_'.join(image_file.split('_')[:-1])\n",
    "    all_cat_file = '{}_gtFine_labelIds.png'.format(image_name)\n",
    "    all_instance_file = '{}_gtFine_instanceIds.png'.format(image_name)\n",
    "    select_cat_file = '{}_gtFine_labelTrainIds.png'.format(image_name)\n",
    "    select_instance_file = '{}_gtFine_instanceTrainIds.png'.format(image_name)\n",
    "\n",
    "    short_name, extension = os.path.splitext(image_file.split('/')[-1])\n",
    "    short_id = '_'.join(short_name.split('_')[:-1])\n",
    "    test_list.append(short_id)\n",
    "    shutil.copy(os.path.join(ori_test_img_dir, image_file),\n",
    "                os.path.join(out_test_img_dir, '{}{}'.format(short_name, extension)))\n",
    "    shutil.copy(os.path.join(ori_test_label_dir, all_cat_file),\n",
    "                os.path.join(out_test_cat_mask_dir, '{}{}.png'.format(short_id, '_gtFine_labelIds')))\n",
    "    shutil.copy(os.path.join(ori_test_label_dir, all_instance_file),\n",
    "                os.path.join(out_test_obj_mask_dir, '{}{}.png'.format(short_id, '_gtFine_instanceIds')))\n",
    "    shutil.copy(os.path.join(ori_test_label_dir, select_cat_file),\n",
    "                os.path.join(out_test_cat_mask_dir, '{}{}.png'.format(short_id, '_gtFine_labelTrainIds')))\n",
    "    shutil.copy(os.path.join(ori_test_label_dir, select_instance_file),\n",
    "                os.path.join(out_test_obj_mask_dir, '{}{}.png'.format(short_id, '_gtFine_instanceTrainIds')))"
   ]
  },
  {
   "cell_type": "markdown",
   "metadata": {},
   "source": [
    "## Generate list"
   ]
  },
  {
   "cell_type": "code",
   "execution_count": null,
   "metadata": {},
   "outputs": [],
   "source": [
    "len(train_list)"
   ]
  },
  {
   "cell_type": "code",
   "execution_count": null,
   "metadata": {},
   "outputs": [],
   "source": [
    "import random"
   ]
  },
  {
   "cell_type": "code",
   "execution_count": null,
   "metadata": {},
   "outputs": [],
   "source": [
    "random.seed(6)"
   ]
  },
  {
   "cell_type": "code",
   "execution_count": null,
   "metadata": {},
   "outputs": [],
   "source": [
    "train_select = random.sample(train_list, int(0.1*len(train_list)))"
   ]
  },
  {
   "cell_type": "code",
   "execution_count": null,
   "metadata": {},
   "outputs": [],
   "source": [
    "len(train_select)"
   ]
  },
  {
   "cell_type": "code",
   "execution_count": null,
   "metadata": {},
   "outputs": [],
   "source": [
    "train_select.sort()"
   ]
  },
  {
   "cell_type": "code",
   "execution_count": null,
   "metadata": {
    "scrolled": true
   },
   "outputs": [],
   "source": [
    "train_select"
   ]
  },
  {
   "cell_type": "code",
   "execution_count": null,
   "metadata": {},
   "outputs": [],
   "source": [
    "train_list[0]"
   ]
  },
  {
   "cell_type": "code",
   "execution_count": null,
   "metadata": {},
   "outputs": [],
   "source": [
    "len(val_list)"
   ]
  },
  {
   "cell_type": "code",
   "execution_count": null,
   "metadata": {},
   "outputs": [],
   "source": [
    "len(test_list)"
   ]
  },
  {
   "cell_type": "code",
   "execution_count": null,
   "metadata": {
    "scrolled": true
   },
   "outputs": [],
   "source": [
    "def generate_list(data_type, data_list):\n",
    "    total_num = len(data_list)\n",
    "\n",
    "    print('total number of samples:', total_num)\n",
    "    f_test = open(os.path.join(out_root_dir, data_type, data_type+'_0.1.txt'), 'w')\n",
    "\n",
    "    start_num = 1\n",
    "    for img_id in data_list:\n",
    "        print(img_id)\n",
    "        f_test.write(\"{:s}\\n\".format(img_id))\n",
    "        start_num = start_num + 1\n",
    "\n",
    "    print('finished')"
   ]
  },
  {
   "cell_type": "code",
   "execution_count": null,
   "metadata": {
    "scrolled": true
   },
   "outputs": [],
   "source": [
    "generate_list('train', train_list)"
   ]
  },
  {
   "cell_type": "code",
   "execution_count": null,
   "metadata": {
    "scrolled": true
   },
   "outputs": [],
   "source": [
    "generate_list('train', train_select)"
   ]
  },
  {
   "cell_type": "code",
   "execution_count": null,
   "metadata": {
    "scrolled": true
   },
   "outputs": [],
   "source": [
    "generate_list('val', val_list)"
   ]
  },
  {
   "cell_type": "code",
   "execution_count": null,
   "metadata": {
    "scrolled": true
   },
   "outputs": [],
   "source": [
    "generate_list('test', test_list)"
   ]
  }
 ],
 "metadata": {
  "kernelspec": {
   "display_name": "Python3(tf)",
   "language": "python",
   "name": "tensorflow"
  },
  "language_info": {
   "codemirror_mode": {
    "name": "ipython",
    "version": 3
   },
   "file_extension": ".py",
   "mimetype": "text/x-python",
   "name": "python",
   "nbconvert_exporter": "python",
   "pygments_lexer": "ipython3",
   "version": "3.6.7"
  }
 },
 "nbformat": 4,
 "nbformat_minor": 4
}
