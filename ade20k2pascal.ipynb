{
 "cells": [
  {
   "cell_type": "code",
   "execution_count": null,
   "metadata": {},
   "outputs": [],
   "source": [
    "import cv2\n",
    "import numpy as np\n",
    "from PIL import Image\n",
    "import os\n",
    "from matplotlib import pyplot as plt"
   ]
  },
  {
   "cell_type": "code",
   "execution_count": null,
   "metadata": {},
   "outputs": [],
   "source": [
    "base_path = os.getcwd()"
   ]
  },
  {
   "cell_type": "code",
   "execution_count": null,
   "metadata": {},
   "outputs": [],
   "source": [
    "train_img_path = './images/training'\n",
    "validation_img_path = './images/validation'\n",
    "train_anno_path = './annotations_instance/training/'\n",
    "validation_anno_path = './annotations_instance/validation/'"
   ]
  },
  {
   "cell_type": "code",
   "execution_count": null,
   "metadata": {},
   "outputs": [],
   "source": [
    "out_img_path = '../ade20k_pascal/Images/'\n",
    "out_obj_mask_path = '../ade20k_pascal/SegmentationObject/'\n",
    "out_cat_mask_path = '../ade20k_pascal/SegmentationClass/'\n",
    "out_list_path = '../ade20k_pascal/ImageSets/Segmentation/'"
   ]
  },
  {
   "cell_type": "code",
   "execution_count": null,
   "metadata": {},
   "outputs": [],
   "source": [
    "train_list_path = './images/training.txt'\n",
    "validation_path = './images/validation.txt'"
   ]
  },
  {
   "cell_type": "markdown",
   "metadata": {},
   "source": [
    "## Training set"
   ]
  },
  {
   "cell_type": "code",
   "execution_count": null,
   "metadata": {},
   "outputs": [],
   "source": [
    "with open(train_list_path, 'r') as file:\n",
    "    train_list = file.read().splitlines()"
   ]
  },
  {
   "cell_type": "code",
   "execution_count": null,
   "metadata": {
    "scrolled": true
   },
   "outputs": [],
   "source": [
    "train_list"
   ]
  },
  {
   "cell_type": "code",
   "execution_count": null,
   "metadata": {},
   "outputs": [],
   "source": [
    "training_list = []\n",
    "for item in train_list:\n",
    "    sample_name = item.split('/')[-1].split('.')[-2]\n",
    "    training_list.append(sample_name)"
   ]
  },
  {
   "cell_type": "code",
   "execution_count": null,
   "metadata": {
    "scrolled": true
   },
   "outputs": [],
   "source": [
    "training_list"
   ]
  },
  {
   "cell_type": "code",
   "execution_count": null,
   "metadata": {
    "scrolled": true
   },
   "outputs": [],
   "source": [
    "for i, sample in enumerate(training_list):\n",
    "    print('Processing sample %s, %d/%d'%(sample, i+1, len(training_list)))\n",
    "          \n",
    "    anno = Image.open(os.path.join(train_anno_path, sample + '.png'))\n",
    "    image = Image.open(os.path.join(train_img_path, sample + '.jpg'))\n",
    "    image.save(os.path.join(out_img_path, sample + '.jpg'))\n",
    "    r, g, b = anno.split()\n",
    "    r.save(os.path.join(out_cat_mask_path, sample + '.png'))\n",
    "    g.save(os.path.join(out_obj_mask_path, sample + '.png'))"
   ]
  },
  {
   "cell_type": "markdown",
   "metadata": {},
   "source": [
    "## Validation set"
   ]
  },
  {
   "cell_type": "code",
   "execution_count": null,
   "metadata": {},
   "outputs": [],
   "source": [
    "with open(validation_path, 'r') as file:\n",
    "    val_list = file.read().splitlines()"
   ]
  },
  {
   "cell_type": "code",
   "execution_count": null,
   "metadata": {},
   "outputs": [],
   "source": [
    "validation_list = []\n",
    "for item in val_list:\n",
    "    sample_name = item.split('/')[-1].split('.')[-2]\n",
    "    validation_list.append(sample_name)"
   ]
  },
  {
   "cell_type": "code",
   "execution_count": null,
   "metadata": {
    "scrolled": true
   },
   "outputs": [],
   "source": [
    "validation_list"
   ]
  },
  {
   "cell_type": "code",
   "execution_count": null,
   "metadata": {
    "scrolled": true
   },
   "outputs": [],
   "source": [
    "for i, sample in enumerate(validation_list):\n",
    "    print('Processing sample %s, %d/%d'%(sample, i+1, len(validation_list)))\n",
    "          \n",
    "    anno = Image.open(os.path.join(validation_anno_path, sample + '.png'))\n",
    "    image = Image.open(os.path.join(validation_img_path, sample + '.jpg'))\n",
    "    image.save(os.path.join(out_img_path, sample + '.jpg'))\n",
    "    r, g, b = anno.split()\n",
    "    r.save(os.path.join(out_cat_mask_path, sample + '.png'))\n",
    "    g.save(os.path.join(out_obj_mask_path, sample + '.png'))"
   ]
  },
  {
   "cell_type": "markdown",
   "metadata": {},
   "source": [
    "## Generate list"
   ]
  },
  {
   "cell_type": "code",
   "execution_count": null,
   "metadata": {},
   "outputs": [],
   "source": [
    "print('total number of samples:', len(training_list))\n",
    "f_test = open(os.path.join(out_list_path, 'train.txt'), 'w')\n",
    "\n",
    "start_num = 1\n",
    "\n",
    "for img_id in training_list:\n",
    "    f_test.write(\"{:s}\\n\".format(img_id))\n",
    "    start_num = start_num + 1\n",
    "print('finished')"
   ]
  },
  {
   "cell_type": "code",
   "execution_count": null,
   "metadata": {},
   "outputs": [],
   "source": [
    "print('total number of samples:', len(validation_list))\n",
    "f_test = open(os.path.join(out_list_path, 'val.txt'), 'w')\n",
    "\n",
    "start_num = 1\n",
    "\n",
    "for img_id in validation_list:\n",
    "    f_test.write(\"{:s}\\n\".format(img_id))\n",
    "    start_num = start_num + 1\n",
    "print('finished')"
   ]
  },
  {
   "cell_type": "code",
   "execution_count": null,
   "metadata": {},
   "outputs": [],
   "source": [
    "cat = np.array(r)"
   ]
  },
  {
   "cell_type": "code",
   "execution_count": null,
   "metadata": {},
   "outputs": [],
   "source": [
    "cat.shape"
   ]
  },
  {
   "cell_type": "code",
   "execution_count": null,
   "metadata": {},
   "outputs": [],
   "source": [
    "plt.imshow(cat)"
   ]
  },
  {
   "cell_type": "code",
   "execution_count": null,
   "metadata": {},
   "outputs": [],
   "source": [
    "cat_id = np.unique(cat)"
   ]
  },
  {
   "cell_type": "code",
   "execution_count": null,
   "metadata": {},
   "outputs": [],
   "source": [
    "cat_id"
   ]
  },
  {
   "cell_type": "code",
   "execution_count": null,
   "metadata": {},
   "outputs": [],
   "source": [
    "obj = np.array(g)"
   ]
  },
  {
   "cell_type": "code",
   "execution_count": null,
   "metadata": {},
   "outputs": [],
   "source": [
    "obj.shape"
   ]
  },
  {
   "cell_type": "code",
   "execution_count": null,
   "metadata": {},
   "outputs": [],
   "source": [
    "plt.imshow(obj)"
   ]
  },
  {
   "cell_type": "code",
   "execution_count": null,
   "metadata": {},
   "outputs": [],
   "source": [
    "obj_id = np.unique(obj)"
   ]
  },
  {
   "cell_type": "code",
   "execution_count": null,
   "metadata": {},
   "outputs": [],
   "source": [
    "obj_id"
   ]
  },
  {
   "cell_type": "code",
   "execution_count": null,
   "metadata": {},
   "outputs": [],
   "source": [
    "back = np.array(b)"
   ]
  },
  {
   "cell_type": "code",
   "execution_count": null,
   "metadata": {},
   "outputs": [],
   "source": [
    "back.shape"
   ]
  },
  {
   "cell_type": "code",
   "execution_count": null,
   "metadata": {},
   "outputs": [],
   "source": [
    "plt.imshow(back)"
   ]
  },
  {
   "cell_type": "code",
   "execution_count": null,
   "metadata": {},
   "outputs": [],
   "source": []
  }
 ],
 "metadata": {
  "kernelspec": {
   "display_name": "Python3(tf)",
   "language": "python",
   "name": "tensorflow"
  },
  "language_info": {
   "codemirror_mode": {
    "name": "ipython",
    "version": 3
   },
   "file_extension": ".py",
   "mimetype": "text/x-python",
   "name": "python",
   "nbconvert_exporter": "python",
   "pygments_lexer": "ipython3",
   "version": "3.6.7"
  }
 },
 "nbformat": 4,
 "nbformat_minor": 4
}
